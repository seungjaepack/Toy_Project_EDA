{
 "cells": [
  {
   "cell_type": "markdown",
   "id": "a75aced2",
   "metadata": {},
   "source": [
    "# Toy Project 5조_Crawling Part_SJP"
   ]
  },
  {
   "cell_type": "markdown",
   "id": "76f4f8f5",
   "metadata": {},
   "source": [
    "# 00. Library Import"
   ]
  },
  {
   "cell_type": "code",
   "execution_count": null,
   "id": "5a57b00c",
   "metadata": {
    "ExecuteTime": {
     "end_time": "2021-10-02T07:59:01.557997Z",
     "start_time": "2021-10-02T07:58:59.363873Z"
    }
   },
   "outputs": [],
   "source": [
    "# 필요패키지 import\n",
    "import numpy as np\n",
    "import pandas as pd\n",
    "import requests\n",
    "import seaborn as sns\n",
    "import matplotlib.pyplot as plt\n",
    "from bs4 import BeautifulSoup\n",
    "import time\n",
    "import json\n",
    "import urllib.request\n",
    "# ini(id,pw ini 파일 로드 라이브러리 import)\n",
    "import os\n",
    "import sys\n",
    "import urllib.request\n",
    "import configparser"
   ]
  },
  {
   "cell_type": "markdown",
   "id": "79d531c9",
   "metadata": {},
   "source": [
    "# 01. ini file (id, pw) 로드"
   ]
  },
  {
   "cell_type": "code",
   "execution_count": null,
   "id": "0a3db0a7",
   "metadata": {},
   "outputs": [],
   "source": [
    "# ini  확인하기\n",
    "cfg = configparser.ConfigParser()\n",
    "cfg.read('../Info.ini')\n",
    "\n",
    "# section 이름을 찍어봅시다.\n",
    "for section in cfg.sections() :\n",
    "    print(section)\n",
    "    for i in cfg[section]:\n",
    "        print(i)"
   ]
  },
  {
   "cell_type": "markdown",
   "id": "5f26b821",
   "metadata": {},
   "source": [
    "# 02. Naver API"
   ]
  },
  {
   "cell_type": "code",
   "execution_count": null,
   "id": "469dba7c",
   "metadata": {
    "ExecuteTime": {
     "end_time": "2021-10-02T08:07:32.991367Z",
     "start_time": "2021-10-02T08:07:32.819207Z"
    }
   },
   "outputs": [],
   "source": [
    "#1-1. Url 설정\n",
    "url = \"https://openapi.naver.com/v1/datalab/shopping/categories\"\n",
    "\n",
    "#1-2. id,pw 변수 지정하기\n",
    "client_id = cfg['Naver_api']['id']\n",
    "client_secret = cfg['Naver_api']['pw']\n",
    "\n",
    "#1-3 검색어 옵션 body에 지정\n",
    "body = {\n",
    "    \"startDate\": \"2020-03-01\"\n",
    "    ,\"endDate\": \"2021-07-31\"\n",
    "    ,\"timeUnit\": \"date\"\n",
    "    ,\"category\": [{\"name\": \"디지털/가전\", \"param\": [\"50000003\"]}]\n",
    "    ,\"device\": \"pc\"\n",
    "    ,\"gender\": \"\"\n",
    "    ,\"ages\": ['10']\n",
    "}\n",
    "#1-3. request하기 \n",
    "body = json.dumps(body,ensure_ascii=False)\n",
    "request = urllib.request.Request(url)\n",
    "\n",
    "request.add_header(\"X-Naver-Client-Id\",client_id)\n",
    "request.add_header(\"X-Naver-Client-Secret\",client_secret)\n",
    "request.add_header(\"Content-Type\",\"application/json\")\n",
    "\n",
    "response = urllib.request.urlopen(request, data=body.encode(\"utf-8\"))\n",
    "\n",
    "rescode = response.getcode()\n",
    "\n",
    "#1-4 Refactoring: Reponse if else \n",
    "if(rescode==200): \n",
    "    response_body = response.read() \n",
    "    print(response_body.decode('utf-8'))\n",
    "\n",
    "else: \n",
    "    print(\"Error Code:\" + rescode)\n",
    "    \n",
    "#2. Parsing하기\n",
    "dt = dict()\n",
    "months = []\n",
    "data['results'][0]['data']\n",
    "df = pd.DataFrame(data['results'][0]['data'])\n",
    "\n",
    "#3. Data 저장하기\n",
    "df.to_csv(\"age10_디지털가전_pc.csv\",mode = 'w')"
   ]
  }
 ],
 "metadata": {
  "kernelspec": {
   "display_name": "Python 3",
   "language": "python",
   "name": "python3"
  },
  "language_info": {
   "codemirror_mode": {
    "name": "ipython",
    "version": 3
   },
   "file_extension": ".py",
   "mimetype": "text/x-python",
   "name": "python",
   "nbconvert_exporter": "python",
   "pygments_lexer": "ipython3",
   "version": "3.8.8"
  },
  "toc": {
   "base_numbering": 1,
   "nav_menu": {},
   "number_sections": true,
   "sideBar": true,
   "skip_h1_title": false,
   "title_cell": "Table of Contents",
   "title_sidebar": "Contents",
   "toc_cell": false,
   "toc_position": {},
   "toc_section_display": true,
   "toc_window_display": false
  },
  "varInspector": {
   "cols": {
    "lenName": 16,
    "lenType": 16,
    "lenVar": 40
   },
   "kernels_config": {
    "python": {
     "delete_cmd_postfix": "",
     "delete_cmd_prefix": "del ",
     "library": "var_list.py",
     "varRefreshCmd": "print(var_dic_list())"
    },
    "r": {
     "delete_cmd_postfix": ") ",
     "delete_cmd_prefix": "rm(",
     "library": "var_list.r",
     "varRefreshCmd": "cat(var_dic_list()) "
    }
   },
   "types_to_exclude": [
    "module",
    "function",
    "builtin_function_or_method",
    "instance",
    "_Feature"
   ],
   "window_display": false
  }
 },
 "nbformat": 4,
 "nbformat_minor": 5
}
