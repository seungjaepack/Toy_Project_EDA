{
 "cells": [
  {
   "cell_type": "markdown",
   "metadata": {},
   "source": [
    "# Toy Project_5조_E-commerce_2110104(Seungjae Pack)"
   ]
  },
  {
   "cell_type": "markdown",
   "metadata": {},
   "source": [
    "# 0. Library Import"
   ]
  },
  {
   "cell_type": "code",
   "execution_count": null,
   "metadata": {
    "ExecuteTime": {
     "end_time": "2021-10-04T04:26:34.037185Z",
     "start_time": "2021-10-04T04:26:34.032038Z"
    }
   },
   "outputs": [],
   "source": [
    "import pandas as pd\n",
    "import numpy as np\n",
    "import matplotlib.pyplot as plt\n",
    "import seaborn as sns\n",
    "import requests\n",
    "import json\n",
    "import time\n",
    "from pandas.io.json import json_normalize\n",
    "from bs4 import BeautifulSoup"
   ]
  },
  {
   "cell_type": "code",
   "execution_count": null,
   "metadata": {
    "ExecuteTime": {
     "end_time": "2021-10-04T04:26:35.008411Z",
     "start_time": "2021-10-04T04:26:34.992039Z"
    }
   },
   "outputs": [],
   "source": [
    "import selenium"
   ]
  },
  {
   "cell_type": "code",
   "execution_count": null,
   "metadata": {
    "ExecuteTime": {
     "end_time": "2021-10-04T04:26:36.687026Z",
     "start_time": "2021-10-04T04:26:36.641510Z"
    }
   },
   "outputs": [],
   "source": [
    "from wordcloud import WordCloud, STOPWORDS\n",
    "import matplotlib.pyplot as plt\n",
    "%matplotlib inline\n",
    "\n",
    "import numpy as np\n",
    "from PIL import Image"
   ]
  },
  {
   "cell_type": "code",
   "execution_count": null,
   "metadata": {
    "ExecuteTime": {
     "end_time": "2021-10-04T04:26:38.277835Z",
     "start_time": "2021-10-04T04:26:38.097167Z"
    }
   },
   "outputs": [],
   "source": [
    "import time\n",
    "from selenium import webdriver"
   ]
  },
  {
   "cell_type": "markdown",
   "metadata": {},
   "source": [
    "# 1. Crawling_Selenium"
   ]
  },
  {
   "cell_type": "code",
   "execution_count": null,
   "metadata": {
    "ExecuteTime": {
     "end_time": "2021-10-04T04:27:22.348472Z",
     "start_time": "2021-10-04T04:26:43.168124Z"
    }
   },
   "outputs": [],
   "source": [
    "# Entire Code\n",
    "# 셀레니움을 통해 인기검색어 가저오기\n",
    "# 1. 크롤링 준비\n",
    "# 1-1. library 호출\n",
    "import time\n",
    "from selenium import webdriver\n",
    "\n",
    "# 1-2.크롭 웹드라이버 지정\n",
    "driver = webdriver.Chrome('./webdriver/chrome/chromedriver')\n",
    "\n",
    "# 1-3. 네이버 쇼핑인사이트 이동\n",
    "path = 'https://datalab.naver.com/shoppingInsight/sCategory.naver'\n",
    "driver.get(path)\n",
    "\n",
    "# 2. 네이버 쇼핑인사이트 조회 설정하기\n",
    "# 2-1. 기기별 전체 선택 (모바일만 선택)\n",
    "driver.find_element_by_xpath('//*[@id=\"18_device_1\"]').click()\n",
    "# 2-2. 성별 전체 선택\n",
    "driver.find_element_by_xpath('//*[@id=\"19_gender_0\"]').click()\n",
    "# 2-3. 연령별 전체 선택\n",
    "driver.find_element_by_xpath('//*[@id=\"20_age_0\"]').click()\n",
    "# 조회하기 버튼 클릭\n",
    "driver.find_element_by_xpath('//*[@id=\"content\"]/div[2]/div/div[1]/div/div/div[1]/div/div[1]/span').click()\n",
    "time.sleep(1)\n",
    "# 2-4-1. 카테고리 분야 선택 (주제어 선택: 여가/생활편의)\n",
    "driver.find_element_by_xpath('//*[@id=\"content\"]/div[2]/div/div[1]/div/div/div[1]/div/div[1]/ul/li[10]/a').click()\n",
    "# 2.4-2 카테고리 분야 선택 (2분류 선택)\n",
    "driver.find_element_by_xpath('//*[@id=\"content\"]/div[2]/div/div[1]/div/div/div[1]/div/div[2]/span').click()\n",
    "# 2.4-3카테고리 분야 선택 (분류어 선택: 홈케어/서비스)\n",
    "driver.find_element_by_xpath('//*[@id=\"content\"]/div[2]/div/div[1]/div/div/div[1]/div/div[2]/ul/li[8]/a').click()\n",
    "\n",
    "# 2.5 분류 & 기간 선택\n",
    "time.sleep(1)\n",
    "# 2.5-1. 조회 시작 달 선택\n",
    "driver.find_element_by_xpath('//*[@id=\"content\"]/div[2]/div/div[1]/div/div/div[2]/div[2]/span[1]/div[2]/span').click()\n",
    "time.sleep(1)\n",
    "driver.find_element_by_xpath('//*[@id=\"content\"]/div[2]/div/div[1]/div/div/div[2]/div[2]/span[1]/div[2]/ul/li[3]/a').click()\n",
    "# 2.5-2.조회 시작 일 선택\n",
    "driver.find_element_by_xpath('//*[@id=\"content\"]/div[2]/div/div[1]/div/div/div[2]/div[2]/span[1]/div[3]/span').click()\n",
    "time.sleep(1)\n",
    "driver.find_element_by_xpath('//*[@id=\"content\"]/div[2]/div/div[1]/div/div/div[2]/div[2]/span[1]/div[3]/ul/li[1]/a').click()\n",
    "# 2.5-3.조회 끝 월 선택\n",
    "driver.find_element_by_xpath('//*[@id=\"content\"]/div[2]/div/div[1]/div/div/div[2]/div[2]/span[3]/div[2]/span').click()\n",
    "time.sleep(1)\n",
    "driver.find_element_by_xpath('//*[@id=\"content\"]/div[2]/div/div[1]/div/div/div[2]/div[2]/span[3]/div[2]/ul/li[1]/a').click()\n",
    "# 2.5-4.조회 끝 날 선택\n",
    "driver.find_element_by_xpath('//*[@id=\"content\"]/div[2]/div/div[1]/div/div/div[2]/div[2]/span[3]/div[3]/span').click()\n",
    "time.sleep(1)\n",
    "driver.find_element_by_xpath('//*[@id=\"content\"]/div[2]/div/div[1]/div/div/div[2]/div[2]/span[3]/div[3]/ul/li[31]/a').click()\n",
    "time.sleep(1)\n",
    "\n",
    "# 2.6. 조회하기 클릭\n",
    "driver.find_element_by_xpath('//*[@id=\"content\"]/div[2]/div/div[1]/div/a').click()\n",
    "time.sleep(1)\n",
    "\n",
    "# 3. For문을 이용 동적 페이지(1~25)에서 페이지당 20개 단어 데이터 가져오기 \n",
    "keyword_list = []\n",
    "\n",
    "for p in range(0, 25):\n",
    "    # 인기검색어 가져오기\n",
    "    for i in range(1, 21):\n",
    "        keyword_path = f'//*[@id=\"content\"]/div[2]/div/div[2]/div[2]/div/div/div[1]/ul/li[{i}]/a'\n",
    "        keyword_list.append(driver.find_element_by_xpath(keyword_path).text.replace(\"\\n\",\" \"))\n",
    "\n",
    "    # 다음 페이지 넘기기 \n",
    "    driver.find_element_by_xpath('//*[@id=\"content\"]/div[2]/div/div[2]/div[2]/div/div/div[2]/div/a[2]').click()\n",
    "    time.sleep(1)\n",
    "\n",
    "# # 종료하기\n",
    "# driver.close()\n",
    "# 리스트 확인하기\n",
    "keyword_list"
   ]
  },
  {
   "cell_type": "markdown",
   "metadata": {
    "ExecuteTime": {
     "end_time": "2021-10-04T04:27:48.194707Z",
     "start_time": "2021-10-04T04:27:48.177169Z"
    }
   },
   "source": [
    "# 2. Word Cloud"
   ]
  },
  {
   "cell_type": "code",
   "execution_count": null,
   "metadata": {
    "ExecuteTime": {
     "end_time": "2021-10-04T04:50:39.765393Z",
     "start_time": "2021-10-04T04:50:39.202179Z"
    }
   },
   "outputs": [],
   "source": [
    "\n",
    "# 1. 데이터 전처리하기\n",
    "# 1-1 키워드리스트에서 키워드만 분리하기(List Comprehension)\n",
    "pop_word=[i[2:].strip() for i in keyword_list[:99]]\n",
    "# pop_word\n",
    "\n",
    "# 1-2-1. 키워드리스트에서 랭크만만 분리(List Comprehension)\n",
    "# 1-2-2. 데이터 전처리 int Parsing_반올림\n",
    "pop_ratio=[round(1/int((i[:2].strip())),2) for i in keyword_list[:99]]\n",
    "# pop_ratio\n",
    "\n",
    "# 1- 3. 각 리스트를 한개씩 뽑아서 딕셔너리 만들어 주기\n",
    "dic_pop = { name:value for name, value in zip(pop_word,pop_ratio)}\n",
    "\n",
    "# 2. Word Cloud 생성\n",
    "\n",
    "#2-1. WordCloud 객체 생성하기 (옵션 폰트 설정하기)\n",
    "wc = WordCloud(\n",
    "    font_path='NanumBarunGothic.ttf',\n",
    "    background_color='white',\n",
    "    width=800,\n",
    "    height=800\n",
    ")\n",
    "\n",
    "#2-2. 워드 클라우드 생성하기\n",
    "wc_img = wc.generate_from_frequencies(dic_pop)\n",
    "wc_img.to_file('pop_word cloud.jpg')"
   ]
  },
  {
   "cell_type": "code",
   "execution_count": null,
   "metadata": {
    "ExecuteTime": {
     "end_time": "2021-10-03T12:53:29.598070Z",
     "start_time": "2021-10-03T12:53:29.581073Z"
    }
   },
   "outputs": [],
   "source": [
    "# 글자 깨짐 현상\n",
    "import matplotlib.pyplot as plt\n",
    "import platform\n",
    "from matplotlib import font_manager, rc\n",
    "plt.rcParams['axes.unicode_minus'] = False\n",
    "\n",
    "if platform.system() == 'Darwin':\n",
    "    f_path = '/Library/Fonts/Arial Unicode.ttf'\n",
    "elif platform.system() == 'Windows':\n",
    "    f_path = 'c:/Windows/Fonts/malgun.ttf'\n",
    "font_name = font_manager.FontProperties(fname=f_path).get_name()\n",
    "rc('font', family=font_name)\n",
    "\n",
    "print('Hangul font is set!')"
   ]
  }
 ],
 "metadata": {
  "kernelspec": {
   "display_name": "Python 3",
   "language": "python",
   "name": "python3"
  },
  "language_info": {
   "codemirror_mode": {
    "name": "ipython",
    "version": 3
   },
   "file_extension": ".py",
   "mimetype": "text/x-python",
   "name": "python",
   "nbconvert_exporter": "python",
   "pygments_lexer": "ipython3",
   "version": "3.8.10"
  },
  "toc": {
   "base_numbering": 1,
   "nav_menu": {},
   "number_sections": true,
   "sideBar": true,
   "skip_h1_title": true,
   "title_cell": "Table of Contents",
   "title_sidebar": "Contents",
   "toc_cell": false,
   "toc_position": {},
   "toc_section_display": true,
   "toc_window_display": false
  },
  "varInspector": {
   "cols": {
    "lenName": 16,
    "lenType": 16,
    "lenVar": 40
   },
   "kernels_config": {
    "python": {
     "delete_cmd_postfix": "",
     "delete_cmd_prefix": "del ",
     "library": "var_list.py",
     "varRefreshCmd": "print(var_dic_list())"
    },
    "r": {
     "delete_cmd_postfix": ") ",
     "delete_cmd_prefix": "rm(",
     "library": "var_list.r",
     "varRefreshCmd": "cat(var_dic_list()) "
    }
   },
   "types_to_exclude": [
    "module",
    "function",
    "builtin_function_or_method",
    "instance",
    "_Feature"
   ],
   "window_display": false
  }
 },
 "nbformat": 4,
 "nbformat_minor": 2
}
